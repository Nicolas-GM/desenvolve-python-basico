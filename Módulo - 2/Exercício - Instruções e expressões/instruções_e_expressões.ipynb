{
 "cells": [
  {
   "cell_type": "markdown",
   "id": "c88e164a",
   "metadata": {},
   "source": [
    "Módulo 2\n",
    "\n",
    "2.3 Instruções e Expressões\n",
    "\n",
    "Q1\n",
    "\n",
    "Faça um programa que armazene o valor de 20 reais de sálario por hora de um trabalhador, e o número de 40 horas trabalhadas na semana. Com essas informações, calcule e imprima:\n",
    "\n",
    "    .Sálario semanal bruto\n",
    "    .Valor descontado por semana INSS (10% do bruto)\n",
    "    .Valor descontado por semana pelo sindicato (5% do bruto)\n",
    "    .Sálario semanal líquido (Bruto - Descontos)"
   ]
  },
  {
   "cell_type": "code",
   "execution_count": 1,
   "id": "e9161784",
   "metadata": {},
   "outputs": [
    {
     "name": "stdout",
     "output_type": "stream",
     "text": [
      "O sálario bruto é de R$ 800\n",
      "O desconto do INSS é de R$ 80.0\n",
      "O desconto do sindicato é de R$ 40.0\n",
      "O sálario líquido é de R$ 680.0\n"
     ]
    }
   ],
   "source": [
    "salario_por_hora = 20\n",
    "horas_por_semana = 40\n",
    "salario_bruto      = salario_por_hora * horas_por_semana\n",
    "desconto_inss      = 0.1 * salario_bruto\n",
    "desconto_sindicato = 0.05 * salario_bruto\n",
    "salario_liquido    = salario_bruto - (desconto_inss + desconto_sindicato)\n",
    "\n",
    "print(\"O sálario bruto é de R$\",salario_bruto)\n",
    "print(\"O desconto do INSS é de R$\",desconto_inss)\n",
    "print(\"O desconto do sindicato é de R$\",desconto_sindicato)\n",
    "print(\"O sálario líquido é de R$\",salario_liquido)"
   ]
  },
  {
   "cell_type": "markdown",
   "id": "9d0dae1b",
   "metadata": {},
   "source": [
    "Q2\n",
    "\n",
    "Altere o programa anterior para a partir dos valores de horas trabalhadas por semana e sálario por hora, calcular **em somente duas instruções:**\n",
    "\n",
    "    .Sálario semanal bruto\n",
    "    .Sálario semanal líquido com todos os descontos. Para a segunda instrução, realize todos os cálculos aritméticos em uma expressão composta."
   ]
  },
  {
   "cell_type": "code",
   "execution_count": 2,
   "id": "a2c1ba62",
   "metadata": {},
   "outputs": [
    {
     "name": "stdout",
     "output_type": "stream",
     "text": [
      "O sálario bruto é de R$ 800\n",
      "O sálario líquido é de R$ 680.0\n"
     ]
    }
   ],
   "source": [
    "salario_por_hora = 20\n",
    "horas_por_semana = 40\n",
    "salario_bruto = salario_por_hora * horas_por_semana\n",
    "salario_liquido = salario_bruto - (0.1*salario_bruto + 0.05 * salario_bruto)\n",
    "print(\"O sálario bruto é de R$\",salario_bruto)\n",
    "print(\"O sálario líquido é de R$\",salario_liquido)"
   ]
  },
  {
   "cell_type": "markdown",
   "id": "a9af21ee",
   "metadata": {},
   "source": [
    "Q3\n",
    "\n",
    "Você está desenvolvendo um software de conversão de moeda e precisa calcular o valor equivalente em yuan chinês a partir de uma quantia em real. A taxa de câmbio é de 0.69 BRL (real) para 1 CNY (yuan). Escreva um programa que define em uma variável uma quantia em reais (BRL) e calcula o valor equivalente em yuan (CNY). Imprima o resultado."
   ]
  },
  {
   "cell_type": "code",
   "execution_count": 14,
   "id": "bb4cfdfd",
   "metadata": {},
   "outputs": [
    {
     "name": "stdout",
     "output_type": "stream",
     "text": [
      "O valor equivalente em yuan é de 145 yuan.\n"
     ]
    }
   ],
   "source": [
    "moeda_em_real  = 100\n",
    "taxa_de_cambio = 0.69\n",
    "moeda_em_yuan = moeda_em_real / taxa_de_cambio\n",
    "print(\"O valor equivalente em yuan é de\",round(moeda_em_yuan),\"yuan.\")"
   ]
  },
  {
   "cell_type": "markdown",
   "id": "36118ac0",
   "metadata": {},
   "source": [
    "Q4\n",
    "\n",
    "Você é um treinador de corrida e deseja calcular a velocidade média que um atleta precisa para completar a Maratona Internacional de São Silvestre, que tem uma distância total de 42.195 Km. A fórmula para calcular a velocidade média (v_media) é dada por v_media=(distancia/tempo). Escreva um programa em Python para calcular a velocidade média necessária para completar a maratona em 3 horas.\n",
    "\n",
    "**Calcule e imprima o resultado em metros/segundo**, ou seja, converta a distância de quilômetros para metros (metro =(km*1000)) e a velocidade de horas para segundos (segundo=(hora*3600))"
   ]
  },
  {
   "cell_type": "code",
   "execution_count": 13,
   "id": "c2cf06e8",
   "metadata": {},
   "outputs": [
    {
     "name": "stdout",
     "output_type": "stream",
     "text": [
      "A velocidade média necessária para completar a prova é de 3907 metros por segundo.\n"
     ]
    }
   ],
   "source": [
    "distancia_em_km = 42195\n",
    "tempo_em_horas = 3\n",
    "km_para_m = distancia_em_km * 1000\n",
    "horas_para_seg = tempo_em_horas * 3600\n",
    "v_media = km_para_m / horas_para_seg\n",
    "print(\"A velocidade média necessária para completar a prova é de\",round(v_media),\"metros por segundo.\")\n"
   ]
  }
 ],
 "metadata": {
  "kernelspec": {
   "display_name": "Python 3",
   "language": "python",
   "name": "python3"
  },
  "language_info": {
   "codemirror_mode": {
    "name": "ipython",
    "version": 3
   },
   "file_extension": ".py",
   "mimetype": "text/x-python",
   "name": "python",
   "nbconvert_exporter": "python",
   "pygments_lexer": "ipython3",
   "version": "3.11.9"
  }
 },
 "nbformat": 4,
 "nbformat_minor": 5
}
